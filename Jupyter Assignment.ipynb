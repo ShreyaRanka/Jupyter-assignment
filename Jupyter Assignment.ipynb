{
 "cells": [
  {
   "cell_type": "markdown",
   "id": "930fcabd-587b-4c18-8ece-0e7c7bce02c9",
   "metadata": {},
   "source": [
    "# Data Science Tools and Ecosystem"
   ]
  },
  {
   "cell_type": "markdown",
   "id": "127e996b-819c-41eb-9510-d0c4e6f15942",
   "metadata": {},
   "source": [
    "In this notebook, Data Science Tools and Ecosystem are summarized."
   ]
  },
  {
   "cell_type": "markdown",
   "id": "e6cfa42b-b376-42e4-86a8-fd8582ff7e4c",
   "metadata": {
    "tags": []
   },
   "source": [
    "## Data Science Languages:"
   ]
  },
  {
   "cell_type": "markdown",
   "id": "4901cd14-5dae-4cb4-bd06-495b641dfece",
   "metadata": {},
   "source": [
    "1. Python\n",
    "2. Java\n",
    "3. C\n",
    "4. C++"
   ]
  },
  {
   "cell_type": "markdown",
   "id": "a2448fe9-a0ab-4eb9-b020-79fddb77bda3",
   "metadata": {},
   "source": [
    "## Data Science Libraries"
   ]
  },
  {
   "cell_type": "markdown",
   "id": "8ecbabad-6a24-449b-9570-7b4117733a67",
   "metadata": {},
   "source": [
    "1. Numpy\n",
    "2. Scipy\n",
    "3. Pandas\n",
    "4. TensorFlow"
   ]
  },
  {
   "cell_type": "markdown",
   "id": "51b77751-0bcb-45e2-8dbe-9eb20fabab77",
   "metadata": {},
   "source": [
    "## Data Science Tools"
   ]
  },
  {
   "cell_type": "markdown",
   "id": "9a77266c-359a-4810-a807-868d56fc1a8e",
   "metadata": {},
   "source": [
    "| Tool          | Description                                             | Use Case                                 |\n",
    "|---------------|---------------------------------------------------------|------------------------------------------|\n",
    "| **Jupyter**   | An open-source web application for creating and sharing documents that contain live code, equations, visualizations, and narrative text. | Interactive coding and visualization.    |\n",
    "| **Pandas**    | A Python library providing high-performance, easy-to-use data structures and data analysis tools. | Data manipulation and analysis.          |\n",
    "| **NumPy**     | A fundamental package for scientific computing with Python. It supports large, multi-dimensional arrays and matrices. | Numerical operations and array handling.|\n",
    "| **SciPy**     | A Python library used for scientific and technical computing, building on NumPy. | Advanced mathematical functions and algorithms. |\n",
    "| **Matplotlib**| A plotting library for the Python programming language and its numerical mathematics extension NumPy. | Creating static, animated, and interactive visualizations. |\n",
    "| **Seaborn**   | A Python visualization library based on Matplotlib that provides a high-level interface for drawing attractive and informative statistical graphics. | Statistical data visualization.          |\n",
    "| **TensorFlow**| An end-to-end open-source platform for machine learning. | Building and deploying machine learning models. |\n",
    "| **Scikit-learn**| A machine learning library for Python that provides simple and efficient tools for data mining and data analysis. | Classical machine learning algorithms.   |\n",
    "| **SQL**       | A standard language for managing and querying relational databases. | Data extraction and manipulation in databases. |\n",
    "| **Apache Spark** | A unified analytics engine for big data processing, with built-in modules for streaming, SQL, machine learning, and graph processing. | Large-scale data processing and analytics. |\n",
    "| **Hadoop**    | An open-source framework that allows for the distributed processing of large data sets across clusters of computers using simple programming models. | Big data storage and processing.         |\n"
   ]
  },
  {
   "cell_type": "markdown",
   "id": "0ed6b2e9-3766-40a9-b670-da5686d55759",
   "metadata": {},
   "source": [
    "## Arithmetic Expression"
   ]
  },
  {
   "cell_type": "code",
   "execution_count": 3,
   "id": "32f1c98c-7ecc-4ae9-8dcb-991cf26ceaf7",
   "metadata": {
    "tags": []
   },
   "outputs": [
    {
     "data": {
      "text/plain": [
       "17"
      ]
     },
     "execution_count": 3,
     "metadata": {},
     "output_type": "execute_result"
    }
   ],
   "source": [
    "12+5"
   ]
  },
  {
   "cell_type": "code",
   "execution_count": 4,
   "id": "c7ddac04-e0a2-43f9-b94c-2bf4077d3ba3",
   "metadata": {
    "tags": []
   },
   "outputs": [
    {
     "data": {
      "text/plain": [
       "138"
      ]
     },
     "execution_count": 4,
     "metadata": {},
     "output_type": "execute_result"
    }
   ],
   "source": [
    "23*6"
   ]
  },
  {
   "cell_type": "code",
   "execution_count": 5,
   "id": "f5c448a7-2730-446a-a519-393b53583e21",
   "metadata": {
    "tags": []
   },
   "outputs": [
    {
     "data": {
      "text/plain": [
       "132"
      ]
     },
     "execution_count": 5,
     "metadata": {},
     "output_type": "execute_result"
    }
   ],
   "source": [
    "12*(5+6)"
   ]
  },
  {
   "cell_type": "code",
   "execution_count": 6,
   "id": "7d96732a-9fa6-4028-8a02-86f78c55bb08",
   "metadata": {
    "tags": []
   },
   "outputs": [
    {
     "data": {
      "text/plain": [
       "0.5"
      ]
     },
     "execution_count": 6,
     "metadata": {},
     "output_type": "execute_result"
    }
   ],
   "source": [
    "30/60"
   ]
  },
  {
   "cell_type": "markdown",
   "id": "51c5026b-48c8-4c47-88c9-c220fc97c4cd",
   "metadata": {},
   "source": [
    "## Author"
   ]
  },
  {
   "cell_type": "markdown",
   "id": "27c3a148-7109-47ad-99e7-fafba1ac4b77",
   "metadata": {
    "tags": []
   },
   "source": [
    "#### Shreya Ranka"
   ]
  },
  {
   "cell_type": "code",
   "execution_count": null,
   "id": "919d3a69-5635-4c95-baf4-bfeb06998a40",
   "metadata": {},
   "outputs": [],
   "source": []
  }
 ],
 "metadata": {
  "kernelspec": {
   "display_name": "Python",
   "language": "python",
   "name": "conda-env-python-py"
  },
  "language_info": {
   "codemirror_mode": {
    "name": "ipython",
    "version": 3
   },
   "file_extension": ".py",
   "mimetype": "text/x-python",
   "name": "python",
   "nbconvert_exporter": "python",
   "pygments_lexer": "ipython3",
   "version": "3.7.12"
  }
 },
 "nbformat": 4,
 "nbformat_minor": 5
}
